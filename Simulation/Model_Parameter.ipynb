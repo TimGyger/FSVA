{
 "cells": [
  {
   "cell_type": "markdown",
   "id": "d6e4f3c3-2807-4abc-9acb-f2e42cf36b4e",
   "metadata": {},
   "source": [
    "# Full-scale Vecchia approximation parameters"
   ]
  },
  {
   "cell_type": "markdown",
   "id": "7235205d-c1cf-4847-8aee-3e7c04c81421",
   "metadata": {},
   "source": [
    "## Packages"
   ]
  },
  {
   "cell_type": "code",
   "execution_count": 6,
   "id": "a81a38d2-1605-4a53-911f-a2067fa96c0b",
   "metadata": {},
   "outputs": [],
   "source": [
    "import torch\n",
    "import gpytorch\n",
    "import matplotlib.pyplot as plt\n",
    "from matplotlib import colors\n",
    "import numpy as np\n",
    "import os\n",
    "import gpboost as gpb\n",
    "import requests"
   ]
  },
  {
   "cell_type": "markdown",
   "id": "a40240fe-058d-4f24-a791-0c0b7d89747b",
   "metadata": {},
   "source": [
    "## Function to generate data"
   ]
  },
  {
   "cell_type": "code",
   "execution_count": 16,
   "id": "eee887b0-81a4-4bc8-b2d8-5dbf610564d2",
   "metadata": {},
   "outputs": [
    {
     "name": "stdout",
     "output_type": "stream",
     "text": [
      "Python file downloaded successfully!\n"
     ]
    }
   ],
   "source": [
    "# Download notebook from GitHub\n",
    "url = 'https://raw.githubusercontent.com/TimGyger/FSVA/refs/heads/main/Simulation/Simulate_Data.py'\n",
    "\n",
    "# Download the Python file\n",
    "response = requests.get(url)\n",
    "\n",
    "# Save the Python file locally\n",
    "with open('your_script.py', 'wb') as f:\n",
    "    f.write(response.content)\n",
    "\n",
    "print(\"Python file downloaded successfully!\")\n",
    "\n",
    "# Execute the downloaded Python file using exec()\n",
    "with open('your_script.py', 'r') as f:\n",
    "    code = f.read()\n",
    "\n",
    "exec(code)"
   ]
  },
  {
   "cell_type": "markdown",
   "id": "99d0b8dd-d6b1-42d7-ba46-44ec76a8a68d",
   "metadata": {},
   "source": [
    "## Gaussian"
   ]
  },
  {
   "cell_type": "markdown",
   "id": "1a8fdc80-3b28-44d1-a4be-7450f758972b",
   "metadata": {},
   "source": [
    "### Generate Data"
   ]
  },
  {
   "cell_type": "code",
   "execution_count": 17,
   "id": "9a2b77d0-9905-4d63-a9e4-26dfc50df087",
   "metadata": {},
   "outputs": [],
   "source": [
    "X, y, _ = simulate_gp_response(\"gaussian\",10000, 0.3, 1.0, torch.tensor([(0.25, 0.50,0.75,1.00,1.25)]),1)"
   ]
  },
  {
   "cell_type": "code",
   "execution_count": null,
   "id": "ad1039a3-5666-4763-9243-88b59499a2f4",
   "metadata": {},
   "outputs": [],
   "source": [
    "# Convert to numpy:\n",
    "X_np = X.numpy()\n",
    "y_np = y.numpy()"
   ]
  },
  {
   "cell_type": "markdown",
   "id": "77c640b5-25cd-4925-8ac3-583ca71c2fb8",
   "metadata": {},
   "source": [
    "### Experiment"
   ]
  },
  {
   "cell_type": "code",
   "execution_count": null,
   "id": "18ba3b8e-06ec-4ac0-a17b-16a247aad578",
   "metadata": {},
   "outputs": [],
   "source": [
    "# Different inducing points\n",
    "vector_ind_points = [0, 10, 50, 100, 200, 500]\n",
    "# Different Vecchia neighbors\n",
    "vector_neighbors = [5, 10, 15, 20, 30, 50]\n",
    "# Zero matrix\n",
    "matrix = np.zeros((len(vector_ind_points), len(vector_neighbors)))\n",
    "matrix2 = np.zeros((len(vector_ind_points), len(vector_neighbors)))\n",
    "# Nested loop to iterate over both vectors\n",
    "for i, val1 in enumerate(vector_ind_points):\n",
    "    for j, val2 in enumerate(vector_neighbors):\n",
    "        if val1 == 0:\n",
    "            # Vecchia\n",
    "            model_vecchia = gpb.GPModel(gp_coords=X_np, cov_function=\"gaussian_ard\", \n",
    "                                     likelihood=\"gaussian\",num_neighbors = val2,\n",
    "                                     matrix_inversion_method = \"cholesky\", gp_approx=\"vecchia\",seed = 10)\n",
    "            neg_vecchia = model_vecchia.neg_log_likelihood(cov_pars = np.array([0.3, 1.0, 0.25, 0.50,0.75,1.00,1.25]), y = y_np)\n",
    "            matrix[i, j] = neg_vecchia\n",
    "            matrix2[i, j] = neg_vecchia\n",
    "        else:\n",
    "            # FSVecchia with euclidean-based neighbor search\n",
    "            model_fsva = gpb.GPModel(gp_coords=X_np, cov_function=\"gaussian_ard\", \n",
    "                                     likelihood=\"gaussian\",num_neighbors = val2,num_ind_points = val1,ind_points_selection = \"kmeans++\",\n",
    "                                     matrix_inversion_method = \"cholesky\", gp_approx=\"vecchia\",seed = 2)\n",
    "            neg_fsva = model_fsva.neg_log_likelihood(cov_pars = np.array([0.3, 1.0, 0.25, 0.50,0.75,1.00,1.25]), y = y_np)\n",
    "            matrix[i, j] = neg_fsva\n",
    "            # FSVecchia with correlation-based neighbor search\n",
    "            model_fsva = gpb.GPModel(gp_coords=X_np, cov_function=\"gaussian_ard\", \n",
    "                                     likelihood=\"gaussian\",num_neighbors = val2,num_ind_points = val1,ind_points_selection = \"kmeans++\",\n",
    "                                     matrix_inversion_method = \"cholesky\", gp_approx=\"vecchia\",seed = 4)\n",
    "            neg_fsva = model_fsva.neg_log_likelihood(cov_pars = np.array([0.3, 1.0, 0.25, 0.50,0.75,1.00,1.25]), y = y_np)\n",
    "            matrix2[i, j] = neg_fsva\n",
    "            "
   ]
  },
  {
   "cell_type": "markdown",
   "id": "e8c429d7-c647-46f2-82b2-efa40ae1a4ee",
   "metadata": {},
   "source": [
    "### Plot"
   ]
  },
  {
   "cell_type": "code",
   "execution_count": null,
   "id": "46ff507c-71a2-40f4-aa45-94fea0275084",
   "metadata": {},
   "outputs": [],
   "source": [
    "# Plotting the matrix\n",
    "fig, ax = plt.subplots(figsize=(8, 6))\n",
    "\n",
    "# Define a colormap (darker colors for larger values in vector1)\n",
    "cmap = plt.cm.get_cmap(\"Greys\")  # You can choose different colormaps like \"viridis\", \"plasma\", etc.\n",
    "new_cmap = colors.LinearSegmentedColormap.from_list(\"mycmap\", cmap(np.linspace(0.1, 1, 256)))\n",
    "# Loop over each row (for each value of vector1) and plot a line\n",
    "for i, row in enumerate(matrix):\n",
    "    # Normalize the color intensity based on the value of vector1\n",
    "    color_intensity = i / len(vector_ind_points)  # Darker as index increases\n",
    "    ax.plot(vector_neighbors, row, label=f' {vector_ind_points[i]}', color=new_cmap(color_intensity))\n",
    "\n",
    "for i, row in enumerate(matrix2):\n",
    "    color_intensity = i / len(vector_ind_points)  # Darker as index increases\n",
    "    ax.plot(vector_neighbors, row, linestyle='--', color=new_cmap(color_intensity))\n",
    "\n",
    "# Adding labels and title\n",
    "ax.set_xlabel(\"Number of Vecchia neighbors\")\n",
    "ax.set_ylabel(\"Negative Log-Likelihood\")\n",
    "ax.set_title(\"\")\n",
    "\n",
    "# Enable grid\n",
    "ax.grid(True)\n",
    "\n",
    "# Show legend\n",
    "ax.legend(title=\"Number of inducing points\")\n",
    "plt.xticks(vector_neighbors)\n",
    "# Show the plot\n",
    "plt.show()"
   ]
  },
  {
   "cell_type": "markdown",
   "id": "bec101be-235c-4c1f-bff3-5aaf2e2ba056",
   "metadata": {},
   "source": [
    "## Bernoulli-Logit"
   ]
  },
  {
   "cell_type": "markdown",
   "id": "1800ceb1-2f09-46b8-a03c-dc80f66b805f",
   "metadata": {},
   "source": [
    "### Generate Data"
   ]
  },
  {
   "cell_type": "code",
   "execution_count": 17,
   "id": "12c22d74-4f89-4cbe-b789-040686193acd",
   "metadata": {},
   "outputs": [],
   "source": [
    "X, y, _ = simulate_gp_response(\"bernoulli-logit\",10000, 0, 1.0, torch.tensor([(0.25, 0.50,0.75,1.00,1.25)]),1)"
   ]
  },
  {
   "cell_type": "code",
   "execution_count": null,
   "id": "bf97f428-31ed-4490-bb04-a476c89667f7",
   "metadata": {},
   "outputs": [],
   "source": [
    "# Convert to numpy:\n",
    "X_np = X.numpy()\n",
    "y_np = y.numpy()"
   ]
  },
  {
   "cell_type": "markdown",
   "id": "b4b521e6-4d48-4525-9980-af34337e71c3",
   "metadata": {},
   "source": [
    "### Experiment"
   ]
  },
  {
   "cell_type": "code",
   "execution_count": null,
   "id": "b98f63af-144a-47ca-af18-c87b77c7194c",
   "metadata": {},
   "outputs": [],
   "source": [
    "# Different inducing points\n",
    "vector_ind_points = [0, 10, 50, 100, 200, 500]\n",
    "# Different Vecchia neighbors\n",
    "vector_neighbors = [5, 10, 15, 20, 30, 50]\n",
    "# Zero matrix\n",
    "matrix = np.zeros((len(vector_ind_points), len(vector_neighbors)))\n",
    "matrix2 = np.zeros((len(vector_ind_points), len(vector_neighbors)))\n",
    "# Nested loop to iterate over both vectors\n",
    "for i, val1 in enumerate(vector_ind_points):\n",
    "    for j, val2 in enumerate(vector_neighbors):\n",
    "        if val1 == 0:\n",
    "            # Vecchia\n",
    "            model_vecchia = gpb.GPModel(gp_coords=X_np, cov_function=\"gaussian_ard\", \n",
    "                                     likelihood=\"bernoulli_logit\",num_neighbors = val2,\n",
    "                                     matrix_inversion_method = \"cholesky\", gp_approx=\"vecchia\",seed = 10)\n",
    "            neg_vecchia = model_vecchia.neg_log_likelihood(cov_pars = np.array([1.0, 0.25, 0.50,0.75,1.00,1.25]), y = y_np)\n",
    "            matrix[i, j] = neg_vecchia\n",
    "            matrix2[i, j] = neg_vecchia\n",
    "        else:\n",
    "            # FSVecchia with euclidean-based neighbor search\n",
    "            model_fsva = gpb.GPModel(gp_coords=X_np, cov_function=\"gaussian_ard\", \n",
    "                                     likelihood=\"bernoulli_logit\",num_neighbors = val2,num_ind_points = val1,ind_points_selection = \"kmeans++\",\n",
    "                                     matrix_inversion_method = \"cholesky\", gp_approx=\"vecchia\",seed = 2)\n",
    "            neg_fsva = model_fsva.neg_log_likelihood(cov_pars = np.array([1.0, 0.25, 0.50,0.75,1.00,1.25]), y = y_np)\n",
    "            matrix[i, j] = neg_fsva\n",
    "            # FSVecchia with correlation-based neighbor search\n",
    "            model_fsva = gpb.GPModel(gp_coords=X_np, cov_function=\"gaussian_ard\", \n",
    "                                     likelihood=\"bernoulli_logit\",num_neighbors = val2,num_ind_points = val1,ind_points_selection = \"kmeans++\",\n",
    "                                     matrix_inversion_method = \"cholesky\", gp_approx=\"vecchia\",seed = 4)\n",
    "            neg_fsva = model_fsva.neg_log_likelihood(cov_pars = np.array([1.0, 0.25, 0.50,0.75,1.00,1.25]), y = y_np)\n",
    "            matrix2[i, j] = neg_fsva"
   ]
  },
  {
   "cell_type": "markdown",
   "id": "b895356a-e50f-45ee-93a1-737be2df8fef",
   "metadata": {},
   "source": [
    "### Plot"
   ]
  },
  {
   "cell_type": "code",
   "execution_count": null,
   "id": "e1957844-1646-46fb-a6c9-0f08ab059633",
   "metadata": {},
   "outputs": [],
   "source": [
    "# Plotting the matrix\n",
    "fig, ax = plt.subplots(figsize=(8, 6))\n",
    "\n",
    "# Define a colormap (darker colors for larger values in vector1)\n",
    "cmap = plt.cm.get_cmap(\"Greys\")  # You can choose different colormaps like \"viridis\", \"plasma\", etc.\n",
    "new_cmap = colors.LinearSegmentedColormap.from_list(\"mycmap\", cmap(np.linspace(0.1, 1, 256)))\n",
    "# Loop over each row (for each value of vector1) and plot a line\n",
    "for i, row in enumerate(matrix):\n",
    "    # Normalize the color intensity based on the value of vector1\n",
    "    color_intensity = i / len(vector_ind_points)  # Darker as index increases\n",
    "    ax.plot(vector_neighbors, row, label=f' {vector_ind_points[i]}', color=new_cmap(color_intensity))\n",
    "\n",
    "for i, row in enumerate(matrix2):\n",
    "    color_intensity = i / len(vector_ind_points)  # Darker as index increases\n",
    "    ax.plot(vector_neighbors, row, linestyle='--', color=new_cmap(color_intensity))\n",
    "\n",
    "# Adding labels and title\n",
    "ax.set_xlabel(\"Number of Vecchia neighbors\")\n",
    "ax.set_ylabel(\"Negative Log-Likelihood\")\n",
    "ax.set_title(\"\")\n",
    "\n",
    "# Enable grid\n",
    "ax.grid(True)\n",
    "\n",
    "# Show legend\n",
    "ax.legend(title=\"Number of inducing points\")\n",
    "plt.xticks(vector_neighbors)\n",
    "# Show the plot\n",
    "plt.show()"
   ]
  }
 ],
 "metadata": {
  "kernelspec": {
   "display_name": "Python 3 (ipykernel)",
   "language": "python",
   "name": "python3"
  },
  "language_info": {
   "codemirror_mode": {
    "name": "ipython",
    "version": 3
   },
   "file_extension": ".py",
   "mimetype": "text/x-python",
   "name": "python",
   "nbconvert_exporter": "python",
   "pygments_lexer": "ipython3",
   "version": "3.11.10"
  }
 },
 "nbformat": 4,
 "nbformat_minor": 5
}
