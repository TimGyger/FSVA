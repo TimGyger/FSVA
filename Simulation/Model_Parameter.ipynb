{
 "cells": [
  {
   "cell_type": "markdown",
   "id": "d6e4f3c3-2807-4abc-9acb-f2e42cf36b4e",
   "metadata": {},
   "source": [
    "# Full-scale Vecchia approximation parameters"
   ]
  },
  {
   "cell_type": "markdown",
   "id": "7235205d-c1cf-4847-8aee-3e7c04c81421",
   "metadata": {},
   "source": [
    "## Packages"
   ]
  },
  {
   "cell_type": "code",
   "execution_count": null,
   "id": "a81a38d2-1605-4a53-911f-a2067fa96c0b",
   "metadata": {},
   "outputs": [],
   "source": [
    "import torch\n",
    "import gpytorch\n",
    "import matplotlib.pyplot as plt\n",
    "from matplotlib import colors\n",
    "import numpy as np\n",
    "import os\n",
    "from sklearn.model_selection import train_test_split\n",
    "import gpboost as gpb"
   ]
  },
  {
   "cell_type": "markdown",
   "id": "a40240fe-058d-4f24-a791-0c0b7d89747b",
   "metadata": {},
   "source": [
    "## Generate Data"
   ]
  },
  {
   "cell_type": "code",
   "execution_count": null,
   "id": "eee887b0-81a4-4bc8-b2d8-5dbf610564d2",
   "metadata": {},
   "outputs": [],
   "source": []
  }
 ],
 "metadata": {
  "kernelspec": {
   "display_name": "Python 3 (ipykernel)",
   "language": "python",
   "name": "python3"
  },
  "language_info": {
   "codemirror_mode": {
    "name": "ipython",
    "version": 3
   },
   "file_extension": ".py",
   "mimetype": "text/x-python",
   "name": "python",
   "nbconvert_exporter": "python",
   "pygments_lexer": "ipython3",
   "version": "3.11.10"
  }
 },
 "nbformat": 4,
 "nbformat_minor": 5
}
