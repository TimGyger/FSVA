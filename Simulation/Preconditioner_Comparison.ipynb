{
 "cells": [
  {
   "cell_type": "markdown",
   "id": "c52d337b-d38c-4987-b1f8-44a4e2845efd",
   "metadata": {},
   "source": [
    "# Preconditioner Comparison"
   ]
  },
  {
   "cell_type": "markdown",
   "id": "a5393b58-26bd-4abc-bb8e-3e7b907390b2",
   "metadata": {},
   "source": [
    "## Packages"
   ]
  },
  {
   "cell_type": "code",
   "execution_count": null,
   "id": "22481147-d9fe-4dec-b5dd-23904f410115",
   "metadata": {},
   "outputs": [],
   "source": [
    "import torch\n",
    "import gpytorch\n",
    "import matplotlib.pyplot as plt\n",
    "from matplotlib import colors\n",
    "import numpy as np\n",
    "import os\n",
    "import gpboost as gpb\n",
    "import requests\n",
    "import pandas as pd\n",
    "import time"
   ]
  },
  {
   "cell_type": "markdown",
   "id": "47eb3b91-a846-47d7-9dcb-60e0af5b217d",
   "metadata": {},
   "source": [
    "## Function to generate data"
   ]
  },
  {
   "cell_type": "code",
   "execution_count": null,
   "id": "33b608ac-b8b5-4ac2-8e42-55ba0da996bd",
   "metadata": {},
   "outputs": [],
   "source": [
    "# Download notebook from GitHub\n",
    "url = 'https://raw.githubusercontent.com/TimGyger/FSVA/refs/heads/main/Simulation/Simulate_Data.py'\n",
    "\n",
    "# Download the Python file\n",
    "response = requests.get(url)\n",
    "\n",
    "# Save the Python file locally\n",
    "with open('your_script.py', 'wb') as f:\n",
    "    f.write(response.content)\n",
    "\n",
    "print(\"Python file downloaded successfully!\")\n",
    "\n",
    "# Execute the downloaded Python file using exec()\n",
    "with open('your_script.py', 'r') as f:\n",
    "    code = f.read()\n",
    "\n",
    "exec(code)"
   ]
  },
  {
   "cell_type": "markdown",
   "id": "3892748b-8188-4ce0-b941-391c82561890",
   "metadata": {},
   "source": [
    "## Non-Gaussian Data"
   ]
  },
  {
   "cell_type": "code",
   "execution_count": 1,
   "id": "b849458a-71ef-4e60-b160-4d5d8f0dc9a3",
   "metadata": {},
   "outputs": [],
   "source": [
    "#X, y, b = simulate_gp_response(\"bernoulli-logit\",100000, 0, 1.0, torch.tensor([(0.25, 0.50,0.75,1.00,1.25)]),1)"
   ]
  },
  {
   "cell_type": "code",
   "execution_count": 2,
   "id": "d916804d-9114-4f8f-8aa5-090c1dd43286",
   "metadata": {},
   "outputs": [],
   "source": [
    "# Convert X and y to a DataFrame\n",
    "# data = pd.DataFrame(X.numpy(), columns=[f\"x{i+1}\" for i in range(X.shape[1])])\n",
    "# data['y'] = y.numpy()\n",
    "# data['b'] = b.numpy()\n",
    "\n",
    "# Save to CSV\n",
    "# data.to_csv(\"simulated_data_non_Gaussian.csv\", index=False)\n",
    "# print(\"Data saved to 'simulated_data_non_Gaussian.csv'\")"
   ]
  },
  {
   "cell_type": "code",
   "execution_count": null,
   "id": "c9c7f178-0d77-471b-9aa0-194ad5e5c8d0",
   "metadata": {},
   "outputs": [],
   "source": [
    "# URL of the raw CSV file on GitHub\n",
    "url = 'https://raw.githubusercontent.com/TimGyger/FSVA/refs/heads/main/Simulation/simulated_data_non_Gaussian.csv'\n",
    "\n",
    "# Load the CSV file directly from the URL\n",
    "df = pd.read_csv(url)\n",
    "\n",
    "# Select the first 5 columns for X\n",
    "X = df.iloc[:, :5]  # First 5 columns\n",
    "\n",
    "# Select the last column for y\n",
    "y = df.iloc[:, 5]  # Last column"
   ]
  },
  {
   "cell_type": "code",
   "execution_count": null,
   "id": "278ffbcf-60ee-45e0-883f-a16530fc4a6d",
   "metadata": {},
   "outputs": [],
   "source": [
    "# Convert to numpy:\n",
    "X_np = X.to_numpy()\n",
    "y_np = y.to_numpy()"
   ]
  },
  {
   "cell_type": "markdown",
   "id": "342290b4-f7b7-4b7e-9762-86e94d75ce93",
   "metadata": {},
   "source": [
    "## Experiments\n"
   ]
  },
  {
   "cell_type": "code",
   "execution_count": null,
   "id": "1a24b6bc-0fcb-466a-b522-d55e070f8eab",
   "metadata": {},
   "outputs": [],
   "source": [
    "# Different number of sample vectors\n",
    "vector_sample = [10, 20, 50, 100]\n",
    "# Number of repetitions\n",
    "num_rep = 100\n",
    "# Zero matrices\n",
    "matrix = np.zeros((len(vector_ind_points), num_rep))\n",
    "matrix_t = np.zeros((len(vector_ind_points), num_rep))\n",
    "\n",
    "matrix1 = np.zeros((len(vector_ind_points), num_rep))\n",
    "matrix_t1 = np.zeros((len(vector_ind_points), num_rep))\n",
    "# Nested loop to iterate over both vectors\n",
    "for i, val1 in enumerate(vector_sample):\n",
    "    for j in range(0, num_rep):\n",
    "        # Start the timer\n",
    "        start_time = time.time()\n",
    "        # FSVecchia with euclidean-based neighbor search\n",
    "        model_fsva = gpb.GPModel(gp_coords=X_np, cov_function=\"gaussian_ard\", \n",
    "                                 likelihood=\"bernoulli_logit\",num_neighbors = 30,num_ind_points = 200,ind_points_selection = \"kmeans++\",\n",
    "                                 matrix_inversion_method = \"iterative\", gp_approx=\"vecchia\",seed = 2)\n",
    "        model_fsva.set_optim_params(params={\"cg_preconditioner_type\": \"predictive_process_plus_diagonal\",\n",
    "                                            \"piv_chol_rank\": 200, \"seed_rand_vec_trace\": j+1, \"num_rand_vec_trace\": val1})\n",
    "        neg_fsva = model_fsva.neg_log_likelihood(cov_pars = np.array([1.0, 0.25, 0.50,0.75,1.00,1.25]), y = y_np)\n",
    "        matrix[i, j] = neg_fsva\n",
    "        # End the timer\n",
    "        end_time = time.time()\n",
    "\n",
    "        # Calculate elapsed time in seconds\n",
    "        matrix_t[i, j] = end_time - start_time\n",
    "\n",
    "        start_time = time.time()\n",
    "        # FSVecchia with euclidean-based neighbor search\n",
    "        model_fsva = gpb.GPModel(gp_coords=X_np, cov_function=\"gaussian_ard\", \n",
    "                                 likelihood=\"bernoulli_logit\",num_neighbors = 30,num_ind_points = 200,ind_points_selection = \"kmeans++\",\n",
    "                                 matrix_inversion_method = \"iterative\", gp_approx=\"vecchia\",seed = 2)\n",
    "        model_fsva.set_optim_params(params={\"cg_preconditioner_type\": \"Bt_Sigma_inv_plus_W_B\",\n",
    "                                            \"seed_rand_vec_trace\": j+1, \"num_rand_vec_trace\": val1})\n",
    "        neg_fsva = model_fsva.neg_log_likelihood(cov_pars = np.array([1.0, 0.25, 0.50,0.75,1.00,1.25]), y = y_np)\n",
    "        matrix1[i, j] = neg_fsva\n",
    "        # End the timer\n",
    "        end_time = time.time()\n",
    "\n",
    "        # Calculate elapsed time in seconds\n",
    "        matrix_t1[i, j] = end_time - start_time"
   ]
  },
  {
   "cell_type": "markdown",
   "id": "dae9050a-639e-4fcb-bae6-1069e0eaf293",
   "metadata": {},
   "source": [
    "## Plots"
   ]
  },
  {
   "cell_type": "code",
   "execution_count": null,
   "id": "4f45f31c-59c7-4782-b8e1-83d465cc7f2d",
   "metadata": {},
   "outputs": [],
   "source": [
    "# P1: Log-likelihood Box Plot\n",
    "plt.figure(figsize=(8, 6))\n",
    "\n",
    "# Group the data by 't' and plot box plots\n",
    "plt.boxplot(matrix.transpose(), widths=0.3, patch_artist=True,\n",
    "            medianprops=dict(color='black'))\n",
    "plt.boxplot(matrix1.transpose(), widths=0.3, patch_artist=True, \n",
    "            positions=np.array(range(1, len(matrix1)+1)) + 0.5,  # Shifting the second box plot for clarity\n",
    "            boxprops=dict(facecolor='lightblue', color='black'),\n",
    "            medianprops=dict(color='black'))  # Add matrix1 data in light blue\n",
    "plt.ylabel(\"Log-likelihood\")\n",
    "plt.xticks([])\n",
    "plt.xlabel(\"\")\n",
    "plt.tight_layout()\n",
    "plt.show()\n",
    "\n",
    "# P2: Time Plot\n",
    "plt.figure(figsize=(8, 6))\n",
    "\n",
    "row_means = np.mean(matrix_t, axis=1)\n",
    "plt.plot(vector_ind_points, row_means, linewidth=1.5)\n",
    "row_means_t1 = np.mean(matrix_t1, axis=1)\n",
    "plt.plot(vector_ind_points, row_means_t1, linewidth=1.5, label='FSVADU', color='green')\n",
    "plt.ylabel(\"Time (s)\")\n",
    "plt.xlabel(\"Number of inducing points\")\n",
    "plt.legend(title=\"\")\n",
    "plt.tight_layout()\n",
    "#plt.annotate(f\"Cholesky: {time_chol} s\", xy=(0.02, 0.95), xycoords='axes fraction', \n",
    "#             fontsize=12, fontweight='bold', ha='left', va='top', bbox=dict(boxstyle=\"round\", facecolor=\"white\", edgecolor=\"black\"))\n",
    "plt.show()"
   ]
  }
 ],
 "metadata": {
  "kernelspec": {
   "display_name": "Python 3 (ipykernel)",
   "language": "python",
   "name": "python3"
  },
  "language_info": {
   "codemirror_mode": {
    "name": "ipython",
    "version": 3
   },
   "file_extension": ".py",
   "mimetype": "text/x-python",
   "name": "python",
   "nbconvert_exporter": "python",
   "pygments_lexer": "ipython3",
   "version": "3.11.10"
  }
 },
 "nbformat": 4,
 "nbformat_minor": 5
}
